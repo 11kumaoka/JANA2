{
 "cells": [
  {
   "cell_type": "code",
   "execution_count": 1,
   "metadata": {},
   "outputs": [
    {
     "data": {
      "application/vnd.jupyter.widget-view+json": {
       "model_id": "f8433f45e8dd4f3f85e17b75cb6810d7",
       "version_major": 2,
       "version_minor": 0
      },
      "text/plain": [
       "Tab(children=(VBox(children=(BoundedIntText(value=5557, description='Port Number', max=6000, min=5000),)), VBo…"
      ]
     },
     "metadata": {},
     "output_type": "display_data"
    }
   ],
   "source": [
    "import ipywidgets as widgets\n",
    "from ipywidgets import VBox, HBox, FloatSlider\n",
    "from streamSubscriber import StreamSubscriber\n",
    "\n",
    "portTextBox   = widgets.BoundedIntText(value = '5557', min = 5000, max = 6000, step = 1, description = 'Port Number', disabled = False)\n",
    "nrowsTextBox  = widgets.BoundedIntText(value = '2', min = 1, max = 6, step = 1, description = 'Rows', disabled = False)\n",
    "ncolsTextBox  = widgets.BoundedIntText(value = '2', min = 1, max = 6, step = 1, description = 'Columns', disabled = False)\n",
    "threshTextBox = widgets.BoundedIntText(value = '100', min = 0, max = 1024, step = 1, description = 'Hit Threshold', disabled = False)\n",
    "\n",
    "plotButton = widgets.RadioButtons(options = ['Occupancy', 'Waveform'], description = 'Plot Type', disabled = False)\n",
    "\n",
    "portTab   = VBox(children = [portTextBox])\n",
    "threshTab = VBox(children = [threshTextBox])\n",
    "plotTab   = VBox(children = [plotButton, nrowsTextBox, ncolsTextBox])\n",
    "\n",
    "tabs = widgets.Tab(children = [portTab, threshTab, plotTab])\n",
    "tabs.set_title(0, 'Port Selection')\n",
    "tabs.set_title(1, 'Threshold Selection')\n",
    "tabs.set_title(2, 'Plot Selection')\n",
    "\n",
    "tabs"
   ]
  },
  {
   "cell_type": "code",
   "execution_count": null,
   "metadata": {
    "scrolled": false
   },
   "outputs": [
    {
     "name": "stdout",
     "output_type": "stream",
     "text": [
      "Port = 5557, ADC Threshold = 100, Plot Type = Occupancy\n",
      "\n",
      "Subscribing to JANA ZMQ Messages on socket tcp://127.0.0.1:5557\n",
      "\n"
     ]
    }
   ],
   "source": [
    "import matplotlib.pyplot as plt\n",
    "\n",
    "print ('Port = %d, ADC Threshold = %d, Plot Type = %s' % (portTextBox.value, threshTextBox.value, plotButton.value))\n",
    "\n",
    "%matplotlib inline\n",
    "plt.rcParams['figure.figsize'] = [14.5, 10.5]\n",
    "\n",
    "if plotButton.value == 'Occupancy':\n",
    "    StreamSubscriber(plotButton.value, portTextBox.value, threshTextBox.value)\n",
    "if plotButton.value == 'Waveform':\n",
    "    StreamSubscriber(plotButton.value, portTextBox.value, threshTextBox.value, nrowsTextBox.value, ncolsTextBox.value)"
   ]
  },
  {
   "cell_type": "code",
   "execution_count": null,
   "metadata": {},
   "outputs": [],
   "source": []
  }
 ],
 "metadata": {
  "kernelspec": {
   "display_name": "Python 3",
   "language": "python",
   "name": "python3"
  },
  "language_info": {
   "codemirror_mode": {
    "name": "ipython",
    "version": 3
   },
   "file_extension": ".py",
   "mimetype": "text/x-python",
   "name": "python",
   "nbconvert_exporter": "python",
   "pygments_lexer": "ipython3",
   "version": "3.6.8"
  }
 },
 "nbformat": 4,
 "nbformat_minor": 4
}
